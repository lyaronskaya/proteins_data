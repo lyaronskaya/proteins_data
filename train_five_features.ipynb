{
 "cells": [
  {
   "cell_type": "code",
   "execution_count": 1,
   "metadata": {
    "collapsed": true
   },
   "outputs": [],
   "source": [
    "import numpy as np\n",
    "import pandas as pd\n",
    "import matplotlib.pyplot as plt\n",
    "import time\n",
    "\n",
    "from sklearn.linear_model import Lasso, ElasticNet, Ridge\n",
    "from sklearn.learning_curve import learning_curve\n",
    "from sklearn.svm import SVR, LinearSVR\n",
    "from sklearn.grid_search import GridSearchCV\n",
    "from sklearn.kernel_ridge import KernelRidge\n",
    "from sklearn.metrics import jaccard_similarity_score\n",
    "from sklearn.cross_validation import cross_val_score\n",
    "from sklearn.linear_model import LassoCV\n",
    "from sklearn.linear_model import ElasticNetCV\n",
    "\n",
    "%matplotlib inline"
   ]
  },
  {
   "cell_type": "code",
   "execution_count": 2,
   "metadata": {
    "collapsed": false
   },
   "outputs": [],
   "source": [
    "df_features = pd.read_csv('trainingSet/features_training_2.5.scv', sep=' ')\n",
    "df_labels = pd.read_csv('trainingSet/labels_training_2.5.scv', sep=' ')"
   ]
  },
  {
   "cell_type": "code",
   "execution_count": 3,
   "metadata": {
    "collapsed": false
   },
   "outputs": [
    {
     "data": {
      "text/plain": [
       "(3697, 11765)"
      ]
     },
     "execution_count": 3,
     "metadata": {},
     "output_type": "execute_result"
    }
   ],
   "source": [
    "X_train, Y_train = df_features[df_features.columns[:len(df_features.columns)-1]].values, np.squeeze(df_labels.values)\n",
    "X_train.shape"
   ]
  },
  {
   "cell_type": "code",
   "execution_count": 18,
   "metadata": {
    "collapsed": false
   },
   "outputs": [],
   "source": [
    "def svr_scale(x):\n",
    "    return (x - np.min(x)) / (np.max(x) - np.min(x))\n",
    "\n",
    "def svr_preprocess(X):\n",
    "    return [list(svr_scale(x[:5])) + list(x[5:]) for x in X]"
   ]
  },
  {
   "cell_type": "code",
   "execution_count": 19,
   "metadata": {
    "collapsed": false
   },
   "outputs": [],
   "source": [
    "X = svr_preprocess(X_train)"
   ]
  },
  {
   "cell_type": "markdown",
   "metadata": {},
   "source": [
    "### Models"
   ]
  },
  {
   "cell_type": "code",
   "execution_count": 6,
   "metadata": {
    "collapsed": false
   },
   "outputs": [
    {
     "data": {
      "text/plain": [
       "GridSearchCV(cv=5, error_score='raise',\n",
       "       estimator=KernelRidge(alpha=1, coef0=1, degree=3, gamma=0.1, kernel='rbf',\n",
       "      kernel_params=None),\n",
       "       fit_params={}, iid=True, n_jobs=4,\n",
       "       param_grid={'gamma': array([  1.00000e-02,   1.00000e-01,   1.00000e+00,   1.00000e+01,\n",
       "         1.00000e+02]), 'alpha': [1.0, 0.1, 0.01, 0.001]},\n",
       "       pre_dispatch='2*n_jobs', refit=True, scoring='mean_squared_error',\n",
       "       verbose=0)"
      ]
     },
     "execution_count": 6,
     "metadata": {},
     "output_type": "execute_result"
    }
   ],
   "source": [
    "kr_model = GridSearchCV(KernelRidge(kernel='rbf', gamma=0.1), cv=5,\n",
    "                  param_grid={\"alpha\": [1e0, 0.1, 1e-2, 1e-3],\n",
    "                              \"gamma\": np.logspace(-2, 2, 5)}, scoring='mean_squared_error', n_jobs=4)\n",
    "kr_model.fit(kr_X, Y_train)"
   ]
  },
  {
   "cell_type": "code",
   "execution_count": null,
   "metadata": {
    "collapsed": false
   },
   "outputs": [],
   "source": [
    "svr_model = GridSearchCV(SVR(kernel='rbf', gamma=0.1), cv=5,\n",
    "                   param_grid={\"C\": [1e0, 1e1, 1e2, 1e3],\n",
    "                               \"gamma\": np.logspace(-2, 2, 5)}, scoring='mean_squared_error', n_jobs=4)\n",
    "svr_model.fit(X, Y_train)"
   ]
  },
  {
   "cell_type": "code",
   "execution_count": 11,
   "metadata": {
    "collapsed": false
   },
   "outputs": [
    {
     "name": "stderr",
     "output_type": "stream",
     "text": [
      "/Users/luba_yaronskaya/anaconda/lib/python3.4/site-packages/sklearn/linear_model/coordinate_descent.py:466: ConvergenceWarning: Objective did not converge. You might want to increase the number of iterations\n",
      "  ConvergenceWarning)\n",
      "/Users/luba_yaronskaya/anaconda/lib/python3.4/site-packages/sklearn/linear_model/coordinate_descent.py:466: ConvergenceWarning: Objective did not converge. You might want to increase the number of iterations\n",
      "  ConvergenceWarning)\n"
     ]
    }
   ],
   "source": [
    "lasso_model = LassoCV(cv=5).fit(svr_X, Y_train)"
   ]
  },
  {
   "cell_type": "code",
   "execution_count": 12,
   "metadata": {
    "collapsed": false
   },
   "outputs": [
    {
     "name": "stderr",
     "output_type": "stream",
     "text": [
      "/Users/luba_yaronskaya/anaconda/lib/python3.4/site-packages/sklearn/linear_model/coordinate_descent.py:466: ConvergenceWarning: Objective did not converge. You might want to increase the number of iterations\n",
      "  ConvergenceWarning)\n",
      "/Users/luba_yaronskaya/anaconda/lib/python3.4/site-packages/sklearn/linear_model/coordinate_descent.py:466: ConvergenceWarning: Objective did not converge. You might want to increase the number of iterations\n",
      "  ConvergenceWarning)\n"
     ]
    }
   ],
   "source": [
    "enet_model = ElasticNetCV(cv=5, l1_ratio=.5).fit(svr_X, Y_train)"
   ]
  },
  {
   "cell_type": "code",
   "execution_count": 7,
   "metadata": {
    "collapsed": false
   },
   "outputs": [
    {
     "data": {
      "text/plain": [
       "-3.6857835559531531"
      ]
     },
     "execution_count": 7,
     "metadata": {},
     "output_type": "execute_result"
    }
   ],
   "source": [
    "kr_model.best_score_"
   ]
  },
  {
   "cell_type": "code",
   "execution_count": 10,
   "metadata": {
    "collapsed": false
   },
   "outputs": [
    {
     "data": {
      "text/plain": [
       "-3.7281917103288635"
      ]
     },
     "execution_count": 10,
     "metadata": {},
     "output_type": "execute_result"
    }
   ],
   "source": [
    "svr_accuracy = [mean_score for _, mean_score, _ in svr_model.grid_scores_]\n",
    "svr_model.best_score_"
   ]
  },
  {
   "cell_type": "code",
   "execution_count": null,
   "metadata": {
    "collapsed": true
   },
   "outputs": [],
   "source": [
    "linear_ridge_model = RidgeCV()"
   ]
  },
  {
   "cell_type": "code",
   "execution_count": 80,
   "metadata": {
    "collapsed": false
   },
   "outputs": [
    {
     "data": {
      "text/plain": [
       "GridSearchCV(cv=5, error_score='raise',\n",
       "       estimator=LinearSVR(C=1.0, dual=True, epsilon=0.0, fit_intercept=True,\n",
       "     intercept_scaling=1.0, loss='epsilon_insensitive', max_iter=1000,\n",
       "     random_state=None, tol=0.0001, verbose=0),\n",
       "       fit_params={}, iid=True, n_jobs=4,\n",
       "       param_grid={'C': [1.0, 10.0, 100.0, 1000.0], 'epsilon': [1.0, 0.1, 0.01, 0.001, 0.0001]},\n",
       "       pre_dispatch='2*n_jobs', refit=True, scoring='mean_squared_error',\n",
       "       verbose=0)"
      ]
     },
     "execution_count": 80,
     "metadata": {},
     "output_type": "execute_result"
    }
   ],
   "source": [
    "linear_svr_model = GridSearchCV(LinearSVR(), cv=5,\n",
    "                   param_grid={\"C\": [1e0, 1e1, 1e2, 1e3],\n",
    "                               \"epsilon\": [1e0, 1e-1, 1e-2, 1e-3, 1e-4]}, scoring='mean_squared_error', n_jobs=4)\n",
    "linear_svr_model.fit(svr_X, Y_train)"
   ]
  },
  {
   "cell_type": "code",
   "execution_count": 81,
   "metadata": {
    "collapsed": false
   },
   "outputs": [
    {
     "data": {
      "text/plain": [
       "-3.9632393747795298"
      ]
     },
     "execution_count": 81,
     "metadata": {},
     "output_type": "execute_result"
    }
   ],
   "source": [
    "linear_svr_model.best_score_"
   ]
  },
  {
   "cell_type": "markdown",
   "metadata": {
    "collapsed": true
   },
   "source": [
    "### Jaccard index"
   ]
  },
  {
   "cell_type": "markdown",
   "metadata": {},
   "source": [
    "Lasso, Elastic Net"
   ]
  },
  {
   "cell_type": "code",
   "execution_count": 27,
   "metadata": {
    "collapsed": true
   },
   "outputs": [],
   "source": [
    "def get_not_nul_indexes(value_list):\n",
    "    return [i for i, x in enumerate(value_list) if x != 0]\n",
    "\n",
    "def concat(Arr1, Arr2):\n",
    "    return np.array(list(Arr1) + list(Arr2))\n",
    "\n",
    "def cross_validation_for_weights(clf, X, y, scoring, cv_fold = 5):\n",
    "    scores = []\n",
    "    weights = []\n",
    "    n = len(X) // cv_fold\n",
    "    for i in range(cv_fold):\n",
    "        if i == 0:\n",
    "            clf.fit(X[n:], y[n:])\n",
    "        elif i == cv_fold - 1:\n",
    "             clf.fit(X[:i*n], y[:i*n])\n",
    "        else:\n",
    "            clf.fit(concat(X[:i*n], X[(i+1)*n:]), concat(y[:i*n], y[(i+1)*n:]))\n",
    "        y_predict = clf.predict(X[i*n:(i+1)*n])\n",
    "        y_true = y[i*n:(i+1)*n]\n",
    "        weights.append(clf.coef_)\n",
    "    indexes_list = list(map(get_not_nul_indexes, weights))\n",
    "    coefs_count_list = list(map(len, weights))\n",
    "    for i in range(cv_fold):\n",
    "        for j in range(cv_fold):\n",
    "            if i != j:\n",
    "                res = scoring(indexes_list[i], indexes_list[j])\n",
    "                if res:\n",
    "                    scores.append(res)\n",
    "    return scores, coefs_count_list"
   ]
  },
  {
   "cell_type": "code",
   "execution_count": 28,
   "metadata": {
    "collapsed": true
   },
   "outputs": [],
   "source": [
    "def jaccard_index_score(x1, x2):\n",
    "    set_1 = set(x1)\n",
    "    set_2 = set(x2)\n",
    "    n = len(set_1.intersection(set_2))\n",
    "    union_size = float(len(set_1) + len(set_2) - n)\n",
    "    if union_size != 0 :\n",
    "        return n / union_size\n",
    "    else: return None"
   ]
  },
  {
   "cell_type": "code",
   "execution_count": 29,
   "metadata": {
    "collapsed": false
   },
   "outputs": [
    {
     "name": "stderr",
     "output_type": "stream",
     "text": [
      "/Users/luba_yaronskaya/anaconda/lib/python3.4/site-packages/sklearn/linear_model/coordinate_descent.py:466: ConvergenceWarning: Objective did not converge. You might want to increase the number of iterations\n",
      "  ConvergenceWarning)\n"
     ]
    }
   ],
   "source": [
    "lasso_alphas = lasso_model.alphas_\n",
    "lasso_jaccard_and_count_list = []\n",
    "\n",
    "for alpha in lasso_alphas:\n",
    "    lasso_jaccard_and_count_list.append(cross_validation_for_weights(Lasso(alpha=alpha), svr_X, Y_train, scoring=jaccard_index_score))"
   ]
  },
  {
   "cell_type": "code",
   "execution_count": 30,
   "metadata": {
    "collapsed": false
   },
   "outputs": [
    {
     "name": "stderr",
     "output_type": "stream",
     "text": [
      "/Users/luba_yaronskaya/anaconda/lib/python3.4/site-packages/sklearn/linear_model/coordinate_descent.py:466: ConvergenceWarning: Objective did not converge. You might want to increase the number of iterations\n",
      "  ConvergenceWarning)\n"
     ]
    }
   ],
   "source": [
    "alphas = enet_model.alphas_\n",
    "enet_jaccard_and_count_list = []\n",
    "\n",
    "for alpha in alphas:\n",
    "    enet_jaccard_and_count_list.append(cross_validation_for_weights(ElasticNet(alpha=alpha, l1_ratio=0.5), svr_X, Y_train, scoring=jaccard_index_score))"
   ]
  },
  {
   "cell_type": "code",
   "execution_count": 82,
   "metadata": {
    "collapsed": true
   },
   "outputs": [],
   "source": [
    "linear_svr_params = {\"C\": [1e0, 1e1, 1e2, 1e3],\n",
    "                               \"epsilon\": [1e0, 1e-1, 1e-2, 1e-3, 1e-4]}\n",
    "linear_svr_jaccard_and_count_list = []\n",
    "\n",
    "for C in linear_svr_params[\"C\"]:\n",
    "    for epsilon in linear_svr_params[\"epsilon\"]:\n",
    "        linear_svr_jaccard_and_count_list.append(cross_validation_for_weights(LinearSVR(C=C, epsilon=epsilon), svr_X, Y_train, scoring=jaccard_index_score))"
   ]
  },
  {
   "cell_type": "code",
   "execution_count": 83,
   "metadata": {
    "collapsed": true
   },
   "outputs": [],
   "source": [
    "lasso_jaccard_index_list = [x for x, y in lasso_jaccard_and_count_list]\n",
    "enet_jaccard_index_list = [x for x, y in enet_jaccard_and_count_list]\n",
    "lasso_features_count_list = [y for x, y in lasso_jaccard_and_count_list]\n",
    "enet_features_count_list = [y for x, y in enet_jaccard_and_count_list]\n",
    "linear_svr_jaccard_index_list = [x for x, y in linear_svr_jaccard_and_count_list]\n",
    "linear_svr_features_count_list = [y for x, y in linear_svr_jaccard_and_count_list]"
   ]
  },
  {
   "cell_type": "code",
   "execution_count": 84,
   "metadata": {
    "collapsed": false
   },
   "outputs": [],
   "source": [
    "lasso_stability = [np.mean(line) for line in lasso_jaccard_index_list]\n",
    "enet_stability = [np.mean(line) for line in enet_jaccard_index_list]\n",
    "lasso_complexity = np.mean(lasso_features_count_list, axis=1)\n",
    "enet_complexity = np.mean(enet_features_count_list, axis=1)\n",
    "linear_svr_stability = [np.mean(line) for line in linear_svr_jaccard_index_list]\n",
    "linear_svr_complexity = np.mean(linear_svr_features_count_list, axis=1)"
   ]
  },
  {
   "cell_type": "code",
   "execution_count": 34,
   "metadata": {
    "collapsed": false
   },
   "outputs": [],
   "source": [
    "l1 = enet_jaccard_index_list\n",
    "l2 = lasso_jaccard_index_list\n",
    "enet_alphas = enet_model.alphas_\n",
    "lasso_alphas = lasso_model.alphas_\n",
    "l1_mean = [np.mean(line) for line in l1]\n",
    "l2_mean = [np.mean(line) for line in l2]\n",
    "l1_std = [np.std(line) for line in l1]\n",
    "l2_std = [np.std(line) for line in l2]"
   ]
  },
  {
   "cell_type": "code",
   "execution_count": 41,
   "metadata": {
    "collapsed": false
   },
   "outputs": [
    {
     "name": "stderr",
     "output_type": "stream",
     "text": [
      "/Users/luba_yaronskaya/anaconda/lib/python3.4/site-packages/matplotlib/collections.py:590: FutureWarning: elementwise comparison failed; returning scalar instead, but in the future will perform elementwise comparison\n",
      "  if self._edgecolors == str('face'):\n"
     ]
    },
    {
     "data": {
      "image/png": "[encoded data removed]",
      "text/plain": [
       "<matplotlib.figure.Figure at 0x10d9b8588>"
      ]
     },
     "metadata": {},
     "output_type": "display_data"
    }
   ],
   "source": [
    "lambda_count = 0\n",
    "plt.figure()\n",
    "plt.errorbar(enet_alphas[lambda_count:], l1_mean[lambda_count:], yerr=l1_std[lambda_count:], fmt='-o', label=\"Elastic Net\")\n",
    "plt.errorbar(lasso_alphas[lambda_count:], l2_mean[lambda_count:], yerr=l2_std[lambda_count:], fmt='-o', label=\"Lasso\")\n",
    "plt.xlabel(\"Lambda\")\n",
    "plt.ylabel(\"Jaccard index\")\n",
    "plt.legend(loc=\"best\")\n",
    "plt.savefig(\"lasso_enet_jaccard.eps\", format=\"eps\")\n",
    "plt.show()"
   ]
  },
  {
   "cell_type": "code",
   "execution_count": 44,
   "metadata": {
    "collapsed": true
   },
   "outputs": [],
   "source": [
    "def cross_validation_for_features_number(clf, X, y, cv_fold=10):\n",
    "    features_number_list = []\n",
    "    n = len(X) // cv_fold\n",
    "    for i in range(cv_fold):\n",
    "        if i == 0:\n",
    "            clf.fit(X[n:], y[n:])\n",
    "        elif i  == cv_fold - 1:\n",
    "             clf.fit(X[:i*n], y[:i*n])\n",
    "        else:\n",
    "            clf.fit(concat(X[:i*n], X[(i+1)*n:]), concat(y[:i*n], y[(i+1)*n:]))\n",
    "        y_predict = clf.predict(X[i*n:(i+1)*n])\n",
    "        y_true = y[i*n:(i+1)*n]\n",
    "        features_number_list.append(len(get_not_nul_indexes(clf.coef_)))\n",
    "    return int(np.mean(features_number_list))"
   ]
  },
  {
   "cell_type": "code",
   "execution_count": 45,
   "metadata": {
    "collapsed": false
   },
   "outputs": [
    {
     "name": "stderr",
     "output_type": "stream",
     "text": [
      "/Users/luba_yaronskaya/anaconda/lib/python3.4/site-packages/sklearn/linear_model/coordinate_descent.py:466: ConvergenceWarning: Objective did not converge. You might want to increase the number of iterations\n",
      "  ConvergenceWarning)\n"
     ]
    }
   ],
   "source": [
    "lasso_alphas = lasso_model.alphas_\n",
    "features_number_list = [cross_validation_for_features_number(Lasso(alpha=alpha), svr_X, Y_train)\\\n",
    "                            for alpha in alphas]"
   ]
  },
  {
   "cell_type": "code",
   "execution_count": 46,
   "metadata": {
    "collapsed": false
   },
   "outputs": [
    {
     "name": "stderr",
     "output_type": "stream",
     "text": [
      "/Users/luba_yaronskaya/anaconda/lib/python3.4/site-packages/sklearn/linear_model/coordinate_descent.py:466: ConvergenceWarning: Objective did not converge. You might want to increase the number of iterations\n",
      "  ConvergenceWarning)\n"
     ]
    }
   ],
   "source": [
    "enet_alphas = enet_model.alphas_\n",
    "enet_features_number_list = [cross_validation_for_features_number(ElasticNet(alpha=alpha, l1_ratio=0.5), svr_X, Y_train)\\\n",
    "                            for alpha in alphas]"
   ]
  },
  {
   "cell_type": "code",
   "execution_count": 47,
   "metadata": {
    "collapsed": false
   },
   "outputs": [
    {
     "name": "stderr",
     "output_type": "stream",
     "text": [
      "/Users/luba_yaronskaya/anaconda/lib/python3.4/site-packages/matplotlib/collections.py:590: FutureWarning: elementwise comparison failed; returning scalar instead, but in the future will perform elementwise comparison\n",
      "  if self._edgecolors == str('face'):\n"
     ]
    },
    {
     "data": {
      "image/png": "[encoded data removed]",
      "text/plain": [
       "<matplotlib.figure.Figure at 0x10de4e940>"
      ]
     },
     "metadata": {},
     "output_type": "display_data"
    }
   ],
   "source": [
    "deleted = -1\n",
    "plt.figure()\n",
    "plt.errorbar(enet_features_number_list[:deleted], l1_mean[:deleted], yerr=l1_std[:deleted], fmt='-o', label=\"Elastic Net\")\n",
    "plt.errorbar(features_number_list[:deleted], l2_mean[:deleted], yerr=l2_std[:deleted], fmt='-o', label=\"Lasso\")\n",
    "plt.xlabel(\"Number of features\")\n",
    "plt.ylabel(\"Jaccard index\")\n",
    "plt.legend(loc=\"best\")\n",
    "plt.savefig(\"lasso_enet_jaccard_features_all.eps\", format=\"eps\")\n",
    "plt.show()"
   ]
  },
  {
   "cell_type": "code",
   "execution_count": null,
   "metadata": {
    "collapsed": true
   },
   "outputs": [],
   "source": [
    "ridge_alphas = lasso_alphas"
   ]
  },
  {
   "cell_type": "markdown",
   "metadata": {},
   "source": [
    "SVR Jaccard"
   ]
  },
  {
   "cell_type": "code",
   "execution_count": null,
   "metadata": {
    "collapsed": true
   },
   "outputs": [],
   "source": [
    "import sys\n",
    "from itertools import *\n",
    "from multiprocessing.pool import Pool\n",
    "from multiprocessing import cpu_count"
   ]
  },
  {
   "cell_type": "code",
   "execution_count": 50,
   "metadata": {
    "collapsed": true
   },
   "outputs": [],
   "source": [
    "def jaccard_index_score(x1, x2):\n",
    "    set_1 = set(x1)\n",
    "    set_2 = set(x2)\n",
    "    n = len(set_1.intersection(set_2))\n",
    "    union_size = float(len(set_1) + len(set_2) - n)\n",
    "    if union_size != 0 :\n",
    "        return n / union_size\n",
    "    else: return None\n",
    "\n",
    "def concat(Arr1, Arr2):\n",
    "    return np.array(list(Arr1) + list(Arr2))\n",
    "\n",
    "def cross_validation_for_sv(args):\n",
    "    cv_fold = 5\n",
    "    X, y, clf = args\n",
    "    scores = []\n",
    "    sv_indexes_list = []\n",
    "    n = len(X) // cv_fold\n",
    "    for i in range(cv_fold):\n",
    "        if i == 0:\n",
    "            clf.fit(X[n:], y[n:])\n",
    "        elif i  == cv_fold - 1:\n",
    "             clf.fit(X[:i*n], y[:i*n])\n",
    "        else:\n",
    "            clf.fit(concat(X[:i*n], X[(i+1)*n:]), concat(y[:i*n], y[(i+1)*n:]))\n",
    "        sv_indexes_list.append(clf.support_)\n",
    "    coefs_count_list = list(map(len, sv_indexes_list))\n",
    "    for i in range(cv_fold):\n",
    "        for j in range(cv_fold):\n",
    "            if i != j:\n",
    "                res = jaccard_index_score(sv_indexes_list[i], sv_indexes_list[j])\n",
    "                if res:\n",
    "                    scores.append(res)\n",
    "    return scores, coefs_count_list"
   ]
  },
  {
   "cell_type": "code",
   "execution_count": 51,
   "metadata": {
    "collapsed": false
   },
   "outputs": [],
   "source": [
    "clfs = [SVR(kernel='rbf', C=c, gamma=gamma) for c in [1e0, 1e1, 1e2, 1e3] for gamma in np.logspace(-2, 2, 5)]\n",
    "star = [(svr_X, Y_train, clf) for clf in clfs]\n",
    "svr_mean_similarities_and_count_list = list(map(cross_validation_for_sv, star))"
   ]
  },
  {
   "cell_type": "code",
   "execution_count": 53,
   "metadata": {
    "collapsed": true
   },
   "outputs": [],
   "source": [
    "svr_jaccard_list = [x for x, y in svr_mean_similarities_and_count_list]\n",
    "svr_sv_count_list = [y for x, y in svr_mean_similarities_and_count_list]"
   ]
  },
  {
   "cell_type": "code",
   "execution_count": 55,
   "metadata": {
    "collapsed": false
   },
   "outputs": [],
   "source": [
    "svr_stability = [np.mean(line) for line in svr_jaccard_list]\n",
    "svr_complexity = np.mean(svr_sv_count_list, axis=1)"
   ]
  },
  {
   "cell_type": "code",
   "execution_count": null,
   "metadata": {
    "collapsed": true
   },
   "outputs": [],
   "source": [
    "processes = cpu_count() - 1\n",
    "pool = Pool(processes)\n",
    "clfs = [SVR(kernel='rbf', C=c, gamma=gamma) for c in [1e0, 1e1, 1e2, 1e3] for gamma in np.logspace(-2, 2, 5)]]\n",
    "star = [(X, y, clf) for clf in clfs]\n",
    "svr_mean_similarities_and_count_list = pool.map(cross_validation_for_sv, star)"
   ]
  },
  {
   "cell_type": "markdown",
   "metadata": {},
   "source": [
    "### Complexity"
   ]
  },
  {
   "cell_type": "code",
   "execution_count": null,
   "metadata": {
    "collapsed": true
   },
   "outputs": [],
   "source": [
    "kr_complexity = []\n",
    "for alpha in [1e0, 0.1, 1e-2, 1e-3]:\n",
    "    for gamma in np.logspace(-2, 2, 5):\n",
    "        kr_complexity.append(cross_validation_for_kr_coefs(X, y,KernelRidge(kernel='rbf', gamma=gamma, alpha=alpha))"
   ]
  },
  {
   "cell_type": "code",
   "execution_count": null,
   "metadata": {
    "collapsed": true
   },
   "outputs": [],
   "source": [
    "def concat(Arr1, Arr2):\n",
    "    return np.array(list(Arr1) + list(Arr2))\n",
    "\n",
    "def cross_validation_for_weights_count(args):\n",
    "    cv_fold = 5\n",
    "    X, y, clf = args\n",
    "    sv_counts = []\n",
    "    weights = []\n",
    "    n = len(X) / cv_fold\n",
    "    for i in range(cv_fold):\n",
    "        if i == 0:\n",
    "            clf.fit(X[n:], y[n:])\n",
    "        elif i  == cv_fold - 1:\n",
    "             clf.fit(X[:i*n], y[:i*n])\n",
    "        else:\n",
    "            clf.fit(concat(X[:i*n], X[(i+1)*n:]), concat(y[:i*n], y[(i+1)*n:]))\n",
    "        y_predict = clf.predict(X[i*n:(i+1)*n])\n",
    "        y_true = y[i*n:(i+1)*n]\n",
    "        weights.append(clf.coef_)\n",
    "    indexes_list = map(get_not_nul_indexes, weights)\n",
    "    sv_counts = map(len, indexes_list)\n",
    "    return int(np.mean(sv_counts))"
   ]
  },
  {
   "cell_type": "code",
   "execution_count": null,
   "metadata": {
    "collapsed": true
   },
   "outputs": [],
   "source": [
    "lasso_alphas = lasso_model.alphas_\n",
    "lasso_features_count_list = []\n",
    "\n",
    "for alpha in lasso_alphas:\n",
    "    lasso_features_count_list.append(cross_validation_for_weights_count((X, y, Lasso(alpha=alpha))))"
   ]
  },
  {
   "cell_type": "code",
   "execution_count": null,
   "metadata": {
    "collapsed": true
   },
   "outputs": [],
   "source": [
    "enet_alphas = lasso_model.alphas_\n",
    "enet_features_count_list = []\n",
    "\n",
    "for alpha in enet_alphas:\n",
    "    enet_features_count_list.append(cross_validation_for_weights_count((X, y, ElasticNet(alpha=alpha, l1_ratio=0.5))))"
   ]
  },
  {
   "cell_type": "code",
   "execution_count": null,
   "metadata": {
    "collapsed": true
   },
   "outputs": [],
   "source": []
  },
  {
   "cell_type": "markdown",
   "metadata": {},
   "source": [
    "### Accuracy"
   ]
  },
  {
   "cell_type": "code",
   "execution_count": 112,
   "metadata": {
    "collapsed": false
   },
   "outputs": [],
   "source": [
    "kr_accuracy = [mean_score for _, mean_score, _ in kr_model.grid_scores_]\n",
    "svr_accuracy = [mean_score for _, mean_score, _ in svr_model.grid_scores_]\n",
    "linear_svr_accuracy = [mean_score for _, mean_score, _ in linear_svr_model.grid_scores_]"
   ]
  },
  {
   "cell_type": "code",
   "execution_count": 113,
   "metadata": {
    "collapsed": true
   },
   "outputs": [],
   "source": [
    "def minus(x):\n",
    "    return [-a for a in x]"
   ]
  },
  {
   "cell_type": "code",
   "execution_count": 114,
   "metadata": {
    "collapsed": false
   },
   "outputs": [],
   "source": [
    "svr_accuracy = minus(svr_accuracy)\n",
    "kr_accuracy = minus(kr_accuracy)\n",
    "linear_svr_accuracy = minus(linear_svr_accuracy)"
   ]
  },
  {
   "cell_type": "code",
   "execution_count": 25,
   "metadata": {
    "collapsed": true
   },
   "outputs": [],
   "source": [
    "def accuracy(linear_model):\n",
    "    return np.mean(linear_model.mse_path_, axis=1)"
   ]
  },
  {
   "cell_type": "code",
   "execution_count": 88,
   "metadata": {
    "collapsed": false
   },
   "outputs": [],
   "source": [
    "lasso_accuracy = accuracy(lasso_model)\n",
    "enet_accuracy = accuracy(enet_model)"
   ]
  },
  {
   "cell_type": "markdown",
   "metadata": {},
   "source": [
    "### Train size"
   ]
  },
  {
   "cell_type": "code",
   "execution_count": 98,
   "metadata": {
    "collapsed": false
   },
   "outputs": [],
   "source": [
    "svr = svr_model.best_estimator_\n",
    "kr = kr_model.best_estimator_\n",
    "train_sizes, train_scores_svr, test_scores_svr = \\\n",
    "    learning_curve(svr, svr_X, Y_train, train_sizes=np.linspace(0.1, 1, 10),\n",
    "                   scoring=\"mean_squared_error\", cv=5)\n",
    "train_sizes_kr, train_scores_kr, test_scores_kr = \\\n",
    "    learning_curve(kr, kr_X, Y_train, train_sizes=np.linspace(0.1, 1, 10),\n",
    "                   scoring=\"mean_squared_error\", cv=5)"
   ]
  },
  {
   "cell_type": "code",
   "execution_count": 90,
   "metadata": {
    "collapsed": true
   },
   "outputs": [],
   "source": [
    "linear_svr = linear_svr_model.best_estimator_\n",
    "train_sizes_linear_svr, train_scores_linear_svr, test_scores_linear_svr = \\\n",
    "    learning_curve(linear_svr, svr_X, Y_train, train_sizes=np.linspace(0.1, 1, 10),\n",
    "                   scoring=\"mean_squared_error\", cv=5)"
   ]
  },
  {
   "cell_type": "code",
   "execution_count": 99,
   "metadata": {
    "collapsed": true
   },
   "outputs": [],
   "source": [
    "kernel_svr_score = -test_scores_svr.mean(axis=1)\n",
    "kernel_ridge_score = -test_scores_kr.mean(axis=1)\n",
    "linear_svr_score = -test_scores_linear_svr.mean(axis=1)"
   ]
  },
  {
   "cell_type": "code",
   "execution_count": 18,
   "metadata": {
    "collapsed": false
   },
   "outputs": [
    {
     "data": {
      "image/png": "[encoded data removed]",
      "text/plain": [
       "<matplotlib.figure.Figure at 0x10d92a278>"
      ]
     },
     "metadata": {},
     "output_type": "display_data"
    }
   ],
   "source": [
    "lasso_estimator = Lasso(alpha = 0.0001)\n",
    "train_sizes, train_scores, test_scores = \\\n",
    "    learning_curve(lasso_estimator, X_train_5, Y_train, train_sizes=np.linspace(0.1, 1, 10),\n",
    "                   scoring=\"mean_squared_error\", cv=5)\n",
    "lasso_score = -test_scores.mean(1)\n",
    "\n",
    "plt.figure()\n",
    "plt.plot(train_sizes, test_scores.mean(1), 'o-', color=\"r\",\n",
    "         label=\"Lasso\")\n",
    "plt.xlabel(\"Train size\")\n",
    "plt.ylabel(\"Mean Squared Error\")\n",
    "plt.title('Learning curves')\n",
    "plt.legend(loc=\"best\")\n",
    "\n",
    "plt.show()"
   ]
  },
  {
   "cell_type": "code",
   "execution_count": 19,
   "metadata": {
    "collapsed": false
   },
   "outputs": [
    {
     "data": {
      "image/png": "[encoded data removed]",
      "text/plain": [
       "<matplotlib.figure.Figure at 0x10dabd400>"
      ]
     },
     "metadata": {},
     "output_type": "display_data"
    }
   ],
   "source": [
    "enet_estimator = ElasticNet(alpha=10**-2, l1_ratio=0.5)\n",
    "train_sizes, train_scores, test_scores = \\\n",
    "    learning_curve(enet_estimator, X_train_5, Y_train, train_sizes=np.linspace(0.1, 1, 10),\n",
    "                   scoring=\"mean_squared_error\", cv=5)\n",
    "enet_score = -test_scores.mean(1)\n",
    "\n",
    "plt.figure()\n",
    "plt.plot(train_sizes, test_scores.mean(1), 'o-', color=\"r\",\n",
    "         label=\"Elastic Net\")\n",
    "plt.xlabel(\"Train size\")\n",
    "plt.ylabel(\"Mean Squared Error\")\n",
    "plt.title('Learning curves')\n",
    "plt.legend(loc=\"best\")\n",
    "\n",
    "plt.show()"
   ]
  },
  {
   "cell_type": "markdown",
   "metadata": {},
   "source": [
    "### Немного графиков"
   ]
  },
  {
   "cell_type": "code",
   "execution_count": 16,
   "metadata": {
    "collapsed": false
   },
   "outputs": [
    {
     "data": {
      "text/plain": [
       "(1.7039476854742892,\n",
       " 4.7039476854742892,\n",
       " 3.6533207971118813,\n",
       " 4.0979682225084737)"
      ]
     },
     "execution_count": 16,
     "metadata": {},
     "output_type": "execute_result"
    },
    {
     "data": {
      "image/png": "[encoded data removed]",
      "text/plain": [
       "<matplotlib.figure.Figure at 0x12c5cd5f8>"
      ]
     },
     "metadata": {},
     "output_type": "display_data"
    }
   ],
   "source": [
    "m_log_alphas = -np.log10(lasso_model.alphas_)\n",
    "\n",
    "plt.figure()\n",
    "plt.plot(m_log_alphas, lasso_model.mse_path_, ':')\n",
    "plt.plot(m_log_alphas, lasso_model.mse_path_.mean(axis=-1), 'k',\n",
    "         label='Average across the folds', linewidth=2)\n",
    "plt.axvline(-np.log10(lasso_model.alpha_), linestyle='--', color='k',\n",
    "            label='alpha: CV estimate')\n",
    "\n",
    "plt.legend()\n",
    "\n",
    "plt.xlabel('-log(alpha)')\n",
    "plt.ylabel('Mean square error')\n",
    "plt.title('Mean square error on each fold: coordinate descent ')\n",
    "plt.axis('tight')"
   ]
  },
  {
   "cell_type": "code",
   "execution_count": 17,
   "metadata": {
    "collapsed": false
   },
   "outputs": [
    {
     "data": {
      "text/plain": [
       "(1.402917689810308, 4.402917689810308, 3.6748646975969388, 4.0979363083722316)"
      ]
     },
     "execution_count": 17,
     "metadata": {},
     "output_type": "execute_result"
    },
    {
     "data": {
      "image/png": "[encoded data removed]",
      "text/plain": [
       "<matplotlib.figure.Figure at 0x12c5d4518>"
      ]
     },
     "metadata": {},
     "output_type": "display_data"
    }
   ],
   "source": [
    "m_log_alphas = -np.log10(enet_model.alphas_)\n",
    "\n",
    "plt.figure()\n",
    "plt.plot(m_log_alphas, enet_model.mse_path_, ':')\n",
    "plt.plot(m_log_alphas, enet_model.mse_path_.mean(axis=-1), 'k',\n",
    "         label='Average across the folds', linewidth=2)\n",
    "plt.axvline(-np.log10(enet_model.alpha_), linestyle='--', color='k',\n",
    "            label='alpha: CV estimate')\n",
    "\n",
    "plt.legend()\n",
    "\n",
    "plt.xlabel('-log(alpha)')\n",
    "plt.ylabel('Mean square error')\n",
    "plt.title('Mean square error on each fold: coordinate descent ')\n",
    "plt.axis('tight')"
   ]
  },
  {
   "cell_type": "code",
   "execution_count": 100,
   "metadata": {
    "collapsed": false
   },
   "outputs": [
    {
     "data": {
      "image/png": "[encoded data removed]",
      "text/plain": [
       "<matplotlib.figure.Figure at 0x10d861e10>"
      ]
     },
     "metadata": {},
     "output_type": "display_data"
    }
   ],
   "source": [
    "plt.figure()\n",
    "# plt.plot(train_sizes, linear_ridge_score, 'o-',\n",
    "#          label=\"Linear Ridge\")\n",
    "plt.plot(train_sizes, kernel_ridge_score, 'o-',\n",
    "         label=\"Kernel Ridge\")\n",
    "plt.plot(train_sizes, kernel_svr_score, 'o-', \n",
    "         label=\"Kernel SVR\")\n",
    "plt.plot(train_sizes, enet_score, 'o-', \n",
    "         label=\"Elastic Net\")\n",
    "plt.plot(train_sizes, lasso_score, 'o-',\n",
    "         label=\"Lasso\")\n",
    "plt.plot(train_sizes, linear_svr_score, 'o-',\n",
    "         label=\"LinearSVR\")\n",
    "# plt.plot(train_sizes, rf_score, 'o-',\n",
    "#          label=\"Random Forest\")\n",
    "\n",
    "plt.xlabel(\"Train size\")\n",
    "plt.ylabel(\"Mean Squared Error\")\n",
    "plt.title('Learning curves')\n",
    "plt.legend(loc=\"best\")\n",
    "plt.savefig(\"plots_simple.eps\", format=\"eps\")\n",
    "plt.show()"
   ]
  },
  {
   "cell_type": "code",
   "execution_count": 115,
   "metadata": {
    "collapsed": false
   },
   "outputs": [
    {
     "data": {
      "image/png": "[encoded data removed]",
      "text/plain": [
       "<matplotlib.figure.Figure at 0x10de74e10>"
      ]
     },
     "metadata": {},
     "output_type": "display_data"
    }
   ],
   "source": [
    "# plt.plot(kr_accuracy, kernel_ridge_stability, 'ro', \n",
    "#          label=\"Kernel Ridge\")\n",
    "plt.plot(svr_accuracy, svr_stability, 'go', \n",
    "         label=\"Kernel SVR\")\n",
    "plt.plot(linear_svr_accuracy, linear_svr_stability, 'co', \n",
    "         label=\"Linear SVR\")\n",
    "plt.plot(lasso_accuracy, lasso_stability, 'bo', \n",
    "         label=\"Lasso\")\n",
    "# plt.plot(lars_accuracy, lars_stability, 'yo', \n",
    "#          label=\"Lars\")\n",
    "plt.plot(enet_accuracy, enet_stability, 'mo', \n",
    "         label=\"Elastic Net\")\n",
    "# plt.plot(ridge_accuracy, ridge_stability, 'co', \n",
    "#          label=\"Ridge\")\n",
    "\n",
    "plt.xlabel(\"MSE\")\n",
    "plt.ylabel(\"Stability\")\n",
    "plt.legend(loc=\"best\")\n",
    "plt.savefig(\"acc_stability.eps\", format=\"eps\")\n",
    "plt.show()"
   ]
  },
  {
   "cell_type": "code",
   "execution_count": 116,
   "metadata": {
    "collapsed": false
   },
   "outputs": [
    {
     "data": {
      "image/png": "[encoded data removed]",
      "text/plain": [
       "<matplotlib.figure.Figure at 0x10dafc908>"
      ]
     },
     "metadata": {},
     "output_type": "display_data"
    }
   ],
   "source": [
    "plt.plot(svr_complexity, svr_stability, 'go', \n",
    "         label=\"Kernel SVR\")\n",
    "plt.plot(linear_svr_complexity, linear_svr_stability, 'co', \n",
    "         label=\"Linear SVR\")\n",
    "plt.plot(lasso_complexity, lasso_stability, 'bo', \n",
    "         label=\"Lasso\")\n",
    "plt.plot(enet_complexity, enet_stability, 'mo', \n",
    "         label=\"Elastic Net\")\n",
    "plt.xlabel(\"Complexity, number of parameters\")\n",
    "plt.ylabel(\"Stability, mean Jaccard index\")\n",
    "plt.legend(loc=\"best\")\n",
    "plt.savefig(\"complexity_stability_jac.eps\", format=\"eps\")\n",
    "plt.show()"
   ]
  },
  {
   "cell_type": "code",
   "execution_count": 117,
   "metadata": {
    "collapsed": false
   },
   "outputs": [
    {
     "data": {
      "image/png": "[encoded data removed]",
      "text/plain": [
       "<matplotlib.figure.Figure at 0x10ee6c4e0>"
      ]
     },
     "metadata": {},
     "output_type": "display_data"
    }
   ],
   "source": [
    "plt.figure()\n",
    "plt.plot(lasso_accuracy, lasso_complexity, 'bo', \n",
    "         label=\"Lasso\")\n",
    "plt.plot(enet_accuracy, enet_complexity, 'mo', \n",
    "         label=\"Elastic Net\")\n",
    "plt.plot(svr_accuracy, svr_complexity, 'go', \n",
    "         label=\"Kernel SVR\")\n",
    "plt.plot(linear_svr_accuracy, linear_svr_complexity, 'co', \n",
    "         label=\"Linear SVR\")\n",
    "plt.xlabel(\"MSE\")\n",
    "plt.ylabel(\"Complexity\")\n",
    "plt.legend(loc=\"best\")\n",
    "plt.savefig(\"acc_complexity.eps\", format=\"eps\")\n",
    "plt.show()"
   ]
  },
  {
   "cell_type": "code",
   "execution_count": null,
   "metadata": {
    "collapsed": true
   },
   "outputs": [],
   "source": []
  }
 ],
 "metadata": {
  "kernelspec": {
   "display_name": "Python 3",
   "language": "python",
   "name": "python3"
  },
  "language_info": {
   "codemirror_mode": {
    "name": "ipython",
    "version": 3
   },
   "file_extension": ".py",
   "mimetype": "text/x-python",
   "name": "python",
   "nbconvert_exporter": "python",
   "pygments_lexer": "ipython3",
   "version": "3.4.4"
  }
 },
 "nbformat": 4,
 "nbformat_minor": 0
}
